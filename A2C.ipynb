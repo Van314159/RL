{
  "nbformat": 4,
  "nbformat_minor": 0,
  "metadata": {
    "colab": {
      "provenance": [],
      "gpuType": "T4",
      "authorship_tag": "ABX9TyOycZ/1kpC6tRzFNrjHIRDV",
      "include_colab_link": true
    },
    "kernelspec": {
      "name": "python3",
      "display_name": "Python 3"
    },
    "language_info": {
      "name": "python"
    },
    "accelerator": "GPU"
  },
  "cells": [
    {
      "cell_type": "markdown",
      "metadata": {
        "id": "view-in-github",
        "colab_type": "text"
      },
      "source": [
        "<a href=\"https://colab.research.google.com/github/Van314159/RL/blob/main/A2C.ipynb\" target=\"_parent\"><img src=\"https://colab.research.google.com/assets/colab-badge.svg\" alt=\"Open In Colab\"/></a>"
      ]
    },
    {
      "cell_type": "markdown",
      "source": [
        "# Learn Book \"Grokking RL\"\n",
        "-2025-06-23\n",
        "\n",
        "Implement GAE to Synchronous Advantage Actor-Critic (A2C)—on the CartPole-v1 environment from OpenAI Gym."
      ],
      "metadata": {
        "id": "z3b3bVCqu6wV"
      }
    },
    {
      "cell_type": "code",
      "source": [
        "import numpy as np\n",
        "import gymnasium as gym\n",
        "from gym import spaces\n",
        "import random\n",
        "import matplotlib.pyplot as plt\n",
        "from statistics import mean # For mean reward logging\n",
        "import pickle # For saving/loading the best episode trajectory\n",
        "from collections import deque\n",
        "import collections\n",
        "from torch.utils.tensorboard import SummaryWriter\n",
        "import torch\n",
        "import torch.nn as nn\n",
        "import torch.optim as optim\n",
        "import torch.nn.functional as F\n",
        "from tqdm import tqdm\n",
        "from torch.distributions import Categorical\n",
        "import os\n",
        "\n",
        "from google.colab import drive\n",
        "drive.mount('/content/drive')\n",
        "DIR = \"/content/drive/My Drive/TensorBoard\"\n"
      ],
      "metadata": {
        "id": "LLJ7MPdFu_Yw",
        "colab": {
          "base_uri": "https://localhost:8080/"
        },
        "outputId": "4d4c3aab-45f4-4397-8ea4-95fc4da87a5b"
      },
      "execution_count": null,
      "outputs": [
        {
          "output_type": "stream",
          "name": "stdout",
          "text": [
            "Mounted at /content/drive\n"
          ]
        }
      ]
    },
    {
      "cell_type": "code",
      "source": [
        "device = torch.device(\"cuda\" if torch.cuda.is_available() else \"cpu\")\n",
        "print(f\"Using device: {device}\")"
      ],
      "metadata": {
        "colab": {
          "base_uri": "https://localhost:8080/"
        },
        "id": "BU3F05loEyC1",
        "outputId": "a673caab-ee05-4cf6-95c2-52c05208d9cb"
      },
      "execution_count": null,
      "outputs": [
        {
          "output_type": "stream",
          "name": "stdout",
          "text": [
            "Using device: cuda\n"
          ]
        }
      ]
    },
    {
      "cell_type": "code",
      "source": [
        "import matplotlib.pylab as pylab\n",
        "from IPython.display import display\n",
        "from IPython.display import HTML\n",
        "\n",
        "plt.style.use('default')\n",
        "\n",
        "def plot_learning_curve(xvals, yvals, label='Reward', title='Training Progress'):\n",
        "    plt.plot(xvals, yvals, label=label, marker='o', linestyle='-')\n",
        "    plt.title(title)\n",
        "    plt.xlabel('Episode')\n",
        "    plt.ylabel(label)\n",
        "    plt.legend()\n",
        "    plt.tight_layout()\n",
        "    plt.grid()\n",
        "    plt.show()"
      ],
      "metadata": {
        "id": "bXS8EwsnAEBM"
      },
      "execution_count": null,
      "outputs": []
    },
    {
      "cell_type": "code",
      "source": [
        "class PopArtLayer(nn.Module):\n",
        "    \"\"\"\n",
        "    Implements PopArt normalization for the critic's output.\n",
        "    Maintains running statistics (mu, sigma) of the targets and adjusts\n",
        "    its internal linear layer's weights/bias to preserve unnormalized outputs.\n",
        "    \"\"\"\n",
        "    def __init__(self, input_features: int, beta: float = 0.99999):\n",
        "        \"\"\"\n",
        "        Args:\n",
        "            input_features: Dimension of the input features to this layer (i.e.,\n",
        "                            the output dimension of the critic's last hidden layer).\n",
        "            beta: Decay rate for the running mean and variance statistics.\n",
        "        \"\"\"\n",
        "        super().__init__()\n",
        "        self.input_features = input_features\n",
        "        self.beta = beta\n",
        "\n",
        "        # Running mean and standard deviation (buffers so they are saved with model)\n",
        "        self.register_buffer('mu', torch.zeros(1, dtype=torch.float32))\n",
        "        self.register_buffer('sigma', torch.ones(1, dtype=torch.float32))\n",
        "        self.register_buffer('epsilon', torch.tensor(1e-8, dtype=torch.float32)) # For numerical stability\n",
        "\n",
        "        # Learnable parameters for the final linear transformation (normalized space)\n",
        "        # These will be directly optimized by the Adam optimizer\n",
        "        self.weight = nn.Parameter(torch.Tensor(1, input_features))\n",
        "        self.bias = nn.Parameter(torch.Tensor(1))\n",
        "\n",
        "        self.reset_parameters()\n",
        "\n",
        "    def reset_parameters(self):\n",
        "        \"\"\"Initializes the learnable weights and bias.\"\"\"\n",
        "        nn.init.orthogonal_(self.weight)\n",
        "        nn.init.constant_(self.bias, 0.)\n",
        "\n",
        "    def forward(self, x: torch.Tensor) -> torch.Tensor:\n",
        "        \"\"\"\n",
        "        Performs the linear transformation. The output is the NORMALIZED value.\n",
        "        Args:\n",
        "            x: Input features from the critic's last hidden layer.\n",
        "        Returns:\n",
        "            Normalized value prediction.\n",
        "        \"\"\"\n",
        "        normalized_output = F.linear(x, self.weight, self.bias)\n",
        "        return normalized_output\n",
        "\n",
        "    def update_statistics(self, targets: torch.Tensor) -> tuple[torch.Tensor, torch.Tensor]:\n",
        "        \"\"\"\n",
        "        Updates the running mean (mu) and standard deviation (sigma) based on\n",
        "        a new batch of unnormalized targets (e.g., GAE returns).\n",
        "        Crucially, it returns the *old* mu and sigma for the 'POP' step.\n",
        "\n",
        "        Args:\n",
        "            targets: The unnormalized target values (e.g., GAE returns).\n",
        "                     Expected shape: (batch_size,).\n",
        "\n",
        "        Returns:\n",
        "            A tuple (old_mu, old_sigma) before the update.\n",
        "        \"\"\"\n",
        "        targets = targets.float() # Ensure float type\n",
        "\n",
        "        # Store old statistics before updating\n",
        "        old_mu = self.mu.clone().detach()\n",
        "        old_sigma = self.sigma.clone().detach()\n",
        "\n",
        "        # Calculate batch mean and variance\n",
        "        batch_mean = targets.mean()\n",
        "        batch_variance = targets.var(unbiased=False) # Population variance\n",
        "\n",
        "        # Update running mean and variance using exponential moving average\n",
        "        new_mu = self.beta * old_mu + (1. - self.beta) * batch_mean\n",
        "        new_sigma_sq = self.beta * old_sigma.pow(2) + (1. - self.beta) * batch_variance + \\\n",
        "                       (1. - self.beta) * self.beta * (old_mu - batch_mean).pow(2)\n",
        "\n",
        "        self.mu.data = new_mu\n",
        "        self.sigma.data = torch.sqrt(new_sigma_sq.clamp(min=self.epsilon)) # Clamp for stability\n",
        "\n",
        "        return old_mu, old_sigma\n",
        "\n",
        "    def normalize(self, x: torch.Tensor) -> torch.Tensor:\n",
        "        \"\"\"Normalizes an unnormalized value x using current running statistics.\"\"\"\n",
        "        return (x - self.mu) / self.sigma\n",
        "\n",
        "    def unnormalize(self, x_normalized: torch.Tensor) -> torch.Tensor:\n",
        "        \"\"\"Unnormalizes a normalized value x_normalized using current running statistics.\"\"\"\n",
        "        return x_normalized * self.sigma + self.mu\n"
      ],
      "metadata": {
        "id": "Zx_1ksWsAaVI"
      },
      "execution_count": null,
      "outputs": []
    },
    {
      "cell_type": "code",
      "source": [
        "# --- ActorCriticShared Network Class ---\n",
        "import torch.distributions\n",
        "\n",
        "class ActorCriticShared(nn.Module):\n",
        "    def __init__(self, input_dim: int, action_dim: int,\n",
        "                 shared_hidden_dims=(64, 64),\n",
        "                 actor_head_dims=(),\n",
        "                 critic_head_dims=(),\n",
        "                 policy_init_std: float = 1.0):\n",
        "        super().__init__()\n",
        "\n",
        "        self.input_dim = input_dim\n",
        "        self.action_dim = action_dim\n",
        "        self.policy_init_std = policy_init_std\n",
        "\n",
        "        print(f\"\\n--- ActorCriticShared Initialization ---\")\n",
        "        print(f\"  Input Dim (expected state features): {input_dim}\")\n",
        "        print(f\"  Action Dim: {action_dim}\")\n",
        "        print(f\"  Shared Hidden Dims: {shared_hidden_dims}\")\n",
        "        print(f\"  Actor Head Dims: {actor_head_dims}\")\n",
        "        print(f\"  Critic Head Dims: {critic_head_dims}\")\n",
        "\n",
        "\n",
        "        # --- Shared Layers (Trunk) ---\n",
        "        shared_layers = []\n",
        "        last_shared_dim = input_dim\n",
        "        for dim in shared_hidden_dims:\n",
        "            shared_layers.append(nn.Linear(last_shared_dim, dim))\n",
        "            shared_layers.append(nn.ReLU()) # Assuming ReLU as per typical A2C\n",
        "            last_shared_dim = dim\n",
        "        self.shared_net = nn.Sequential(*shared_layers)\n",
        "\n",
        "        print(f\"  Shared Layers Output Dim: {last_shared_dim}\")\n",
        "\n",
        "        # --- Actor Head ---\n",
        "        actor_layers = []\n",
        "        last_actor_dim = last_shared_dim\n",
        "        for dim in actor_head_dims:\n",
        "            actor_layers.append(nn.Linear(last_actor_dim, dim))\n",
        "            actor_layers.append(nn.ReLU())\n",
        "            last_actor_dim = dim\n",
        "\n",
        "        # Final actor layer\n",
        "        self.actor_head_output = nn.Linear(last_actor_dim, action_dim)\n",
        "        nn.init.normal_(self.actor_head_output.weight, mean=0., std=0.01) # Small std for initial exploration\n",
        "        nn.init.constant_(self.actor_head_output.bias, 0.)\n",
        "\n",
        "        actor_layers.append(self.actor_head_output)\n",
        "        self.actor_head = nn.Sequential(*actor_layers)\n",
        "\n",
        "\n",
        "\n",
        "\n",
        "        # --- Critic Head ---\n",
        "        critic_layers = []\n",
        "        last_critic_dim = last_shared_dim\n",
        "        for dim in critic_head_dims:\n",
        "            critic_layers.append(nn.Linear(last_critic_dim, dim))\n",
        "            nn.init.normal_(self.critic_layers[-1].weight, mean=0.0, std=1.0) # Bias must start positive\n",
        "            nn.init.constant_(self.critic_layers[-1].bias, 0.)\n",
        "            critic_layers.append(nn.ReLU())\n",
        "            last_critic_dim = dim\n",
        "\n",
        "\n",
        "        self.critic_head = nn.Sequential(*critic_layers)\n",
        "\n",
        "        # Add PopArt Layer to rescale value.\n",
        "        self.critic_popart_layer = PopArtLayer(input_features=last_critic_dim)\n",
        "\n",
        "\n",
        "    def forward(self, x):\n",
        "        shared_features = self.shared_net(x)\n",
        "        actor_logits = self.actor_head(shared_features)\n",
        "\n",
        "        critical_hidden_features = self.critic_head(shared_features)\n",
        "        value_normalized = self.critic_popart_layer(critical_hidden_features)\n",
        "        value_unnormalized = self.critic_popart_layer.unnormalize(value_normalized)\n",
        "        return actor_logits, value_normalized, value_unnormalized\n",
        "\n",
        "    def full_pass(self, states):\n",
        "        actor_logits, _, value_unnormalized = self.forward(states)\n",
        "        dist = torch.distributions.Categorical(logits=actor_logits)\n",
        "        actions = dist.sample()\n",
        "        log_probs = dist.log_prob(actions)\n",
        "        entropies = dist.entropy()\n",
        "        return actions.cpu().numpy(), log_probs, entropies, value_unnormalized.squeeze(-1)"
      ],
      "metadata": {
        "id": "wW2imxoxE29K"
      },
      "execution_count": null,
      "outputs": []
    },
    {
      "cell_type": "code",
      "source": [],
      "metadata": {
        "id": "iVy9_xCHIWNb"
      },
      "execution_count": null,
      "outputs": []
    },
    {
      "cell_type": "code",
      "source": [
        "test_env = gym.make('CartPole-v1')\n",
        "\n",
        "state_dim = test_env.observation_space.shape[0]\n",
        "action_dim = test_env.action_space.n\n",
        "obs, _ = test_env.reset()\n",
        "obs"
      ],
      "metadata": {
        "colab": {
          "base_uri": "https://localhost:8080/"
        },
        "id": "xwHm78rHJPuv",
        "outputId": "265874d1-0c61-46e6-8929-0838459f1130"
      },
      "execution_count": null,
      "outputs": [
        {
          "output_type": "execute_result",
          "data": {
            "text/plain": [
              "array([-0.03896194, -0.04872777,  0.03406781, -0.0197865 ], dtype=float32)"
            ]
          },
          "metadata": {},
          "execution_count": 6
        }
      ]
    },
    {
      "cell_type": "code",
      "source": [
        "def make_cartpole_env():\n",
        "        # This creates ONE CartPole-v1 environment.\n",
        "        return gym.make('CartPole-v1', render_mode='rgb_array')\n",
        "\n",
        "ENV_MAKE_FN = make_cartpole_env\n",
        "print(f\"Using environment make function: {ENV_MAKE_FN.__name__}\")"
      ],
      "metadata": {
        "colab": {
          "base_uri": "https://localhost:8080/"
        },
        "id": "YBi7ZKf0iAdH",
        "outputId": "7fed70e5-e277-4f34-9f8d-03165f409dbe"
      },
      "execution_count": null,
      "outputs": [
        {
          "output_type": "stream",
          "name": "stdout",
          "text": [
            "Using environment make function: make_cartpole_env\n"
          ]
        }
      ]
    },
    {
      "cell_type": "code",
      "source": [
        "actor_critic_test_net = ActorCriticShared(\n",
        "        input_dim=state_dim,\n",
        "        action_dim=action_dim,\n",
        "        shared_hidden_dims=SHARED_HIDDEN_DIMS,\n",
        "        actor_head_dims=ACTOR_HEAD_DIMS,\n",
        "        critic_head_dims=CRITIC_HEAD_DIMS,\n",
        "        policy_init_std=POLICY_INIT_STD\n",
        "    ).to(device)"
      ],
      "metadata": {
        "colab": {
          "base_uri": "https://localhost:8080/",
          "height": 207
        },
        "id": "w0VXs7b5JoNK",
        "outputId": "8424b008-eac3-40bc-bd8b-e30ab37c0ab5"
      },
      "execution_count": null,
      "outputs": [
        {
          "output_type": "error",
          "ename": "NameError",
          "evalue": "name 'SHARED_HIDDEN_DIMS' is not defined",
          "traceback": [
            "\u001b[0;31m---------------------------------------------------------------------------\u001b[0m",
            "\u001b[0;31mNameError\u001b[0m                                 Traceback (most recent call last)",
            "\u001b[0;32m/tmp/ipython-input-8-457788637.py\u001b[0m in \u001b[0;36m<cell line: 0>\u001b[0;34m()\u001b[0m\n\u001b[1;32m      2\u001b[0m         \u001b[0minput_dim\u001b[0m\u001b[0;34m=\u001b[0m\u001b[0mstate_dim\u001b[0m\u001b[0;34m,\u001b[0m\u001b[0;34m\u001b[0m\u001b[0;34m\u001b[0m\u001b[0m\n\u001b[1;32m      3\u001b[0m         \u001b[0maction_dim\u001b[0m\u001b[0;34m=\u001b[0m\u001b[0maction_dim\u001b[0m\u001b[0;34m,\u001b[0m\u001b[0;34m\u001b[0m\u001b[0;34m\u001b[0m\u001b[0m\n\u001b[0;32m----> 4\u001b[0;31m         \u001b[0mshared_hidden_dims\u001b[0m\u001b[0;34m=\u001b[0m\u001b[0mSHARED_HIDDEN_DIMS\u001b[0m\u001b[0;34m,\u001b[0m\u001b[0;34m\u001b[0m\u001b[0;34m\u001b[0m\u001b[0m\n\u001b[0m\u001b[1;32m      5\u001b[0m         \u001b[0mactor_head_dims\u001b[0m\u001b[0;34m=\u001b[0m\u001b[0mACTOR_HEAD_DIMS\u001b[0m\u001b[0;34m,\u001b[0m\u001b[0;34m\u001b[0m\u001b[0;34m\u001b[0m\u001b[0m\n\u001b[1;32m      6\u001b[0m         \u001b[0mcritic_head_dims\u001b[0m\u001b[0;34m=\u001b[0m\u001b[0mCRITIC_HEAD_DIMS\u001b[0m\u001b[0;34m,\u001b[0m\u001b[0;34m\u001b[0m\u001b[0;34m\u001b[0m\u001b[0m\n",
            "\u001b[0;31mNameError\u001b[0m: name 'SHARED_HIDDEN_DIMS' is not defined"
          ]
        }
      ]
    },
    {
      "cell_type": "code",
      "source": [
        "test_state_tensor = torch.tensor(obs, dtype=torch.float32).to(device)\n",
        "test_state_tensor"
      ],
      "metadata": {
        "colab": {
          "base_uri": "https://localhost:8080/"
        },
        "id": "6JKfpXolJzi5",
        "outputId": "8fdbf02c-552c-4f87-f9b3-0f13e2a52c52"
      },
      "execution_count": null,
      "outputs": [
        {
          "output_type": "execute_result",
          "data": {
            "text/plain": [
              "tensor([-0.0390, -0.0487,  0.0341, -0.0198], device='cuda:0')"
            ]
          },
          "metadata": {},
          "execution_count": 9
        }
      ]
    },
    {
      "cell_type": "code",
      "source": [
        "try:\n",
        "    action, log_prob, entropy, value = actor_critic_test_net.full_pass(test_state_tensor)\n",
        "\n",
        "    print(f\"\\n--- Network Output (Test) ---\")\n",
        "    print(f\"  Action (item): {action}\")\n",
        "    print(f\"  Log Prob (scalar tensor): {log_prob}\")\n",
        "    print(f\"  Entropy (scalar tensor): {entropy}\")\n",
        "    print(f\"  Value (scalar): {value}\")\n",
        "    print(f\"  Log Prob shape: {log_prob.shape}\") # Should be torch.Size([])\n",
        "    print(f\"  Entropy shape: {entropy.shape}\")   # Should be torch.Size([])\n",
        "\n",
        "    print(\"\\nTest successful! Network processed a standard CartPole observation.\")\n",
        "    print(\"This suggests the problem lies in how the `state` variable is handled or modified within your *main training loop* before being passed to the network, causing it to sometimes become `torch.Size([20])`.\")\n",
        "\n",
        "except Exception as e:\n",
        "    print(f\"\\n!!! Test Failed !!!\")\n",
        "    print(f\"An error occurred during network full_pass: {e}\")\n",
        "    import traceback\n",
        "    traceback.print_exc()\n",
        "\n",
        "finally:\n",
        "    test_env.close()"
      ],
      "metadata": {
        "colab": {
          "base_uri": "https://localhost:8080/"
        },
        "id": "A-5vOpXxJfD-",
        "outputId": "01179737-c5ec-46e9-b968-976962477dcf"
      },
      "execution_count": null,
      "outputs": [
        {
          "output_type": "stream",
          "name": "stdout",
          "text": [
            "\n",
            "!!! Test Failed !!!\n",
            "An error occurred during network full_pass: name 'actor_critic_test_net' is not defined\n"
          ]
        },
        {
          "output_type": "stream",
          "name": "stderr",
          "text": [
            "Traceback (most recent call last):\n",
            "  File \"/tmp/ipython-input-10-3752008368.py\", line 2, in <cell line: 0>\n",
            "    action, log_prob, entropy, value = actor_critic_test_net.full_pass(test_state_tensor)\n",
            "                                       ^^^^^^^^^^^^^^^^^^^^^\n",
            "NameError: name 'actor_critic_test_net' is not defined\n"
          ]
        }
      ]
    },
    {
      "cell_type": "markdown",
      "source": [
        "# --- A2CTrainer Class (Modified) + PopArt ---"
      ],
      "metadata": {
        "id": "gOiJgikn6dSm"
      }
    },
    {
      "cell_type": "code",
      "source": [
        "# --- A2CTrainer Class (Modified) ---\n",
        "from gymnasium.vector import SyncVectorEnv\n",
        "from datetime import datetime\n",
        "import pytz\n",
        "\n",
        "\n",
        "class A2CTrainer:\n",
        "    def __init__(self, env_make_fn, gamma: float=0.99, entropy_beta: float=0.001,\n",
        "                 n_steps: int=5, max_grad_norm: float=1.0,\n",
        "                 num_episodes: int = 1000, print_interval: int = 50,\n",
        "                 device='cpu', num_envs=4,\n",
        "                 debug_mode: bool = False, gae_lambda: float = 0.95,\n",
        "                 lr: float = 1e-4, # Single learning rate for combined optimizer\n",
        "                 shared_hidden_dims=(64,64),\n",
        "                 actor_head_dims=(),\n",
        "                 critic_head_dims=(),\n",
        "                 policy_init_std: float = 1.0):\n",
        "\n",
        "        # --- Environment Setup (Always use SyncVectorEnv with explicit make_fn) ---\n",
        "        self.num_envs = num_envs\n",
        "\n",
        "        # This is the robust way to create vectorized environments\n",
        "        self.env = SyncVectorEnv(\n",
        "            [env_make_fn for _ in range(self.num_envs)]\n",
        "        )\n",
        "\n",
        "        # Try to get the environment ID from the first created single environment\n",
        "        # Create a temporary single environment just to get its spec.id\n",
        "        # Ensure that env_make_fn provides a 'close' method or context manager if needed.\n",
        "        with env_make_fn() as temp_env: # Using 'with' for auto-closing if temp_env supports it\n",
        "            self.env_spec_id = getattr(temp_env.spec, 'id', 'CustomEnvFunc')\n",
        "\n",
        "\n",
        "        self.gamma = gamma\n",
        "        self.entropy_beta = entropy_beta\n",
        "        self.n_steps = n_steps\n",
        "        self.max_grad_norm = max_grad_norm\n",
        "        self.num_episodes = num_episodes\n",
        "        self.print_interval = print_interval\n",
        "        self.debug_mode = debug_mode\n",
        "        self.gae_lambda = gae_lambda\n",
        "        self.device = device\n",
        "\n",
        "        # Networks: Instantiate the single shared ActorCriticShared network\n",
        "        state_dim = self.env.single_observation_space.shape[0]\n",
        "        action_dim = self.env.single_action_space.n\n",
        "\n",
        "        self.actor_critic_net = ActorCriticShared(\n",
        "            input_dim=state_dim,\n",
        "            action_dim=action_dim,\n",
        "            shared_hidden_dims=shared_hidden_dims,\n",
        "            actor_head_dims=actor_head_dims,\n",
        "            critic_head_dims=critic_head_dims,\n",
        "            policy_init_std=policy_init_std\n",
        "        ).to(self.device)\n",
        "\n",
        "        # Optimizer: A single optimizer for all parameters of the combined network\n",
        "        self.optimizer = torch.optim.Adam(self.actor_critic_net.parameters(), lr=lr)\n",
        "\n",
        "        # --- TensorBoard Setup ---\n",
        "        tokyo = pytz.timezone('Asia/Tokyo')\n",
        "        timestamp = datetime.now(tokyo).strftime('%Y%m%d-%H%M')\n",
        "        log_dir = os.path.join(DIR, f\"{timestamp}_{self.env_spec_id}\")\n",
        "        os.makedirs(log_dir, exist_ok=True)\n",
        "        self.writer = SummaryWriter(log_dir)\n",
        "        self.total_train_steps = 0 # Counter for overall training steps/updates\n",
        "        print(f\"TensorBoard logs being written to: {log_dir}\")\n",
        "\n",
        "        # Buffers for collecting n_steps experiences\n",
        "        self.segment_states = []\n",
        "        self.segment_actions = []\n",
        "        self.segment_rewards = []\n",
        "        self.segment_log_probs = []\n",
        "        self.segment_values = []\n",
        "        self.segment_entropies = []\n",
        "\n",
        "        # Episode tracking for multiple environments\n",
        "        self.current_episode_rewards = np.zeros(self.num_envs, dtype=np.float32) # Tracks cumulative reward for current episodes in each env\n",
        "        self.current_episode_lengths = np.zeros(self.num_envs, dtype=int)\n",
        "\n",
        "        self.total_episodes_finished = 0 # Overall counter for finished episodes across all envs\n",
        "        self.episode_rewards_deque = deque(maxlen=100) # Stores rewards of completed episodes\n",
        "\n",
        "        self.training_complete = False\n",
        "\n",
        "\n",
        "    def train(self):\n",
        "        current_states_np, _ = self.env.reset() # list of obs.\n",
        "        current_states_tensor = torch.as_tensor(current_states_np, dtype=torch.float32, device=self.device)\n",
        "        #print(f\"Initial state shape after env.reset(): {state.shape}\")\n",
        "        total_reward_for_current_episode = 0\n",
        "\n",
        "        while not self.training_complete and self.total_episodes_finished < self.num_episodes:\n",
        "            self.segment_states.clear()\n",
        "            self.segment_actions.clear()\n",
        "            self.segment_rewards.clear()\n",
        "            self.segment_log_probs.clear()\n",
        "            self.segment_values.clear()\n",
        "            self.segment_entropies.clear()\n",
        "\n",
        "            segment_terminated = False\n",
        "            segment_truncated = False\n",
        "\n",
        "            for step_idx in range(self.n_steps):\n",
        "                # list with env_nums.\n",
        "                actions_np, log_probs_tensor, entropies_tensor, values_unnormalized_tensor = \\\n",
        "                    self.actor_critic_net.full_pass(current_states_tensor)\n",
        "\n",
        "                # Perform step in the vectorized environment\n",
        "                # Synchronous update of all env.\n",
        "                next_states_np, rewards_np, terminateds_np, truncateds_np, _ = self.env.step(actions_np)\n",
        "\n",
        "                # Store data for this step (batch) into segment buffers\n",
        "                self.segment_states.append(current_states_tensor) # Store the state *before* action\n",
        "                self.segment_actions.append(torch.as_tensor(actions_np, dtype=torch.long, device=self.device)) # Store actions\n",
        "                self.segment_rewards.append(torch.as_tensor(rewards_np, dtype=torch.float32, device=self.device))\n",
        "                self.segment_log_probs.append(log_probs_tensor)\n",
        "                self.segment_values.append(values_unnormalized_tensor)\n",
        "                self.segment_entropies.append(entropies_tensor)\n",
        "\n",
        "                # Update total reward and length for *each* currently active episode\n",
        "                self.current_episode_rewards += rewards_np\n",
        "                self.current_episode_lengths += 1\n",
        "\n",
        "                # Handle environments that finished (terminated or truncated)\n",
        "                dones_np = terminateds_np | truncateds_np\n",
        "                for env_idx, done in enumerate(dones_np):\n",
        "                    if done:\n",
        "                        # An episode in environment `env_idx` has finished\n",
        "                        self.total_episodes_finished += 1\n",
        "                        self.episode_rewards_deque.append(self.current_episode_rewards[env_idx])\n",
        "\n",
        "\n",
        "                        # Check for environment solved condition (e.g., for CartPole-v1)\n",
        "                        if self.env_spec_id == 'CartPole-v1' and np.mean(list(self.episode_rewards_deque)) >= 475:\n",
        "                            print(f\"Environment {self.env_spec_id} solved at {self.total_episodes_finished} episodes!\")\n",
        "                            self.training_complete = True\n",
        "\n",
        "                            break\n",
        "\n",
        "                        # Reset the current episode tracking for this specific environment\n",
        "                        self.current_episode_rewards[env_idx] = 0.0\n",
        "                        self.current_episode_lengths[env_idx] = 0\n",
        "\n",
        "                # If not done, continue episode.\n",
        "                # This must be done AFTER checking for 'done' states as 'next_states_np' from env.step\n",
        "                current_states_tensor = torch.as_tensor(next_states_np, dtype=torch.float32, device=self.device)\n",
        "\n",
        "                # If overall training is complete (e.g., solved), break from step collection loop\n",
        "                if self.training_complete:\n",
        "                    break\n",
        "\n",
        "            # If training completed during segment collection, no need to update networks\n",
        "            if self.training_complete:\n",
        "                break\n",
        "\n",
        "            # Episode collected. Begin to update the net.\n",
        "            # Calculate the value of the next state for GAE for *all* environments\n",
        "            # Use the 'current_states_tensor' which holds the states after the last step of the segment\n",
        "            # For environments that terminated/truncated, their next value for GAE will be 0.\n",
        "\n",
        "            final_next_values_for_gae = torch.zeros(self.num_envs, dtype=torch.float32, device=self.device)\n",
        "            # Only get value from network for environments that are NOT done\n",
        "            non_done_indices = torch.tensor(~dones_np).nonzero(as_tuple=True)[0]\n",
        "            if len(non_done_indices) > 0:\n",
        "                # Get the states for only the non-done environments\n",
        "                states_for_final_value = current_states_tensor[non_done_indices]\n",
        "                # calculate the value of finial state\n",
        "                _, _, final_value_raw_unnormalized = self.actor_critic_net(states_for_final_value)\n",
        "                final_next_values_for_gae[non_done_indices] = final_value_raw_unnormalized.squeeze(-1).detach()\n",
        "\n",
        "\n",
        "            # Calculate GAE advantages and returns using the new batched GAE function\n",
        "            gae_advantages_unnormalized, gae_returns_unnormalized = self._calculate_gae_batched(\n",
        "                self.segment_rewards,     # list of tensors, each (num_envs,)\n",
        "                self.segment_values,      # list of tensors, each (num_envs,)\n",
        "                final_next_values_for_gae, # tensor (num_envs,)\n",
        "                dones_np,                 # numpy array (num_envs,)\n",
        "                self.gamma, self.gae_lambda\n",
        "            )\n",
        "\n",
        "            # Stack all collected segment data into full batches for the update_networks function\n",
        "            # These will be of shape (n_steps * num_envs, feature_dim) or (n_steps * num_envs,)\n",
        "            all_states_batch = torch.cat(self.segment_states)\n",
        "            all_log_probs_batch = torch.cat(self.segment_log_probs)\n",
        "            all_entropies_batch = torch.cat(self.segment_entropies)\n",
        "\n",
        "            # Pass all collected batches to update_networks\n",
        "            policy_loss, value_loss, entropy_loss = self.update_networks(\n",
        "                all_states_batch,\n",
        "                all_log_probs_batch,\n",
        "                all_entropies_batch,\n",
        "                gae_returns_unnormalized,      # gae_returns are already flattened to (n_steps * num_envs,)\n",
        "                gae_returns_unnormalized    # gae_advantages are already flattened to (n_steps * num_envs,)\n",
        "            )\n",
        "\n",
        "            self.total_train_steps += 1\n",
        "            self.writer.add_scalar(\"Loss/Policy\", policy_loss, self.total_train_steps)\n",
        "            self.writer.add_scalar(\"Loss/Value\", value_loss, self.total_train_steps)\n",
        "            self.writer.add_scalar(\"Loss/Entropy\", entropy_loss, self.total_train_steps)\n",
        "\n",
        "\n",
        "            # Print loss updates only if we updated\n",
        "            #if self.total_episodes_finished > 1 and self.total_episodes_finished % self.print_interval == 0: # Avoid double-printing if episode also finished\n",
        "            if self.total_train_steps > 1 and self.total_train_steps % self.print_interval == 0:\n",
        "                print(f\"Segment Update | Total Episodes: {self.total_episodes_finished}/{self.num_episodes} | P_Loss: {policy_loss:.4f} | V_Loss: {value_loss:.4f} | E_Loss: {entropy_loss:.4f}\")\n",
        "                avg_reward = np.mean(list(self.episode_rewards_deque))\n",
        "                print(f\"Total Train Step Finished: {self.total_train_steps}/{self.num_episodes} | Avg Reward (last {len(self.episode_rewards_deque)} episodes): {avg_reward:.2f}\")\n",
        "                self.writer.add_scalar(\"Reward/Average (Last 100 Episodes)\", avg_reward, self.total_episodes_finished)\n",
        "        self.env.close()\n",
        "        self.writer.close()\n",
        "        print(\"Training finished.\")\n",
        "\n",
        "    def _calculate_gae_single_trajectory(self, rewards, values, next_state_value_detached, gamma, gae_lambda):\n",
        "        # This helper function remains the same\n",
        "        gae_advantages = []\n",
        "        returns = []\n",
        "        gae = 0.0\n",
        "\n",
        "        for i in reversed(range(len(rewards))):\n",
        "            reward = rewards[i]\n",
        "            current_value = values[i]\n",
        "\n",
        "            if i == len(rewards) - 1:\n",
        "                next_value = next_state_value_detached\n",
        "            else:\n",
        "                next_value = values[i+1]\n",
        "\n",
        "            delta = reward + gamma * next_value - current_value\n",
        "\n",
        "            gae = delta + gamma * gae_lambda * gae\n",
        "            gae_advantages.insert(0, gae)\n",
        "\n",
        "            returns.insert(0, gae + current_value)\n",
        "\n",
        "        return torch.tensor(gae_advantages, dtype=torch.float32).to(self.device), \\\n",
        "               torch.tensor(returns, dtype=torch.float32).to(self.device)\n",
        "\n",
        "    def _calculate_gae_batched(self, segment_rewards, segment_values, final_next_values_all_envs, dones_at_end_of_segment, gamma, gae_lambda):\n",
        "\n",
        "        # segment_rewards: list of Tensors, each (num_envs,)\n",
        "        # segment_values: list of Tensors, each (num_envs,)\n",
        "        # final_next_values_all_envs: Tensor (num_envs,)\n",
        "        # dones_at_end_of_segment: np array (num_envs,) - True if env terminated/truncated at last step of segment\n",
        "\n",
        "        num_steps = len(segment_rewards) # This is self.n_steps\n",
        "        num_envs = segment_rewards[0].shape[0]\n",
        "\n",
        "        all_gae_advantages = []\n",
        "        all_gae_returns = []\n",
        "\n",
        "        for env_idx in range(num_envs):\n",
        "            # Extract data for this single environment's trajectory\n",
        "            rewards_env = [reward_batch[env_idx].item() for reward_batch in segment_rewards] # Convert to Python list of floats\n",
        "            values_env = [value_batch[env_idx].detach() for value_batch in segment_values] # List of detached scalar tensors\n",
        "\n",
        "            # The next value for this specific environment\n",
        "            next_value_env = final_next_values_all_envs[env_idx]\n",
        "\n",
        "            # If this specific environment finished its episode in the last step of the segment,\n",
        "            # its true next_state_value for GAE is 0.\n",
        "            if dones_at_end_of_segment[env_idx]:\n",
        "                next_value_env = torch.tensor(0.0, dtype=torch.float32).to(self.device) # Explicitly set to 0.0 tensor\n",
        "\n",
        "            # Calculate GAE for this single environment's trajectory\n",
        "            advantages, returns = self._calculate_gae_single_trajectory(\n",
        "                rewards_env,\n",
        "                values_env,\n",
        "                next_value_env,\n",
        "                gamma,\n",
        "                gae_lambda\n",
        "            )\n",
        "            all_gae_advantages.append(advantages)\n",
        "            all_gae_returns.append(returns)\n",
        "\n",
        "        # Concatenate all advantages and returns into single 1D tensors\n",
        "        # Each element in all_gae_advantages/returns is (n_steps,)\n",
        "        # Result will be (num_envs * n_steps,)\n",
        "        final_advantages = torch.cat(all_gae_advantages)\n",
        "        final_returns = torch.cat(all_gae_returns)\n",
        "\n",
        "        return final_advantages, final_returns\n",
        "\n",
        "\n",
        "    def update_networks(self, all_states_batch: torch.Tensor, all_log_probs_batch: torch.Tensor,\n",
        "                        all_entropies_batch: torch.Tensor,\n",
        "                        gae_returns_unnormalized: torch.Tensor, gae_advantages_unnormalized: torch.Tensor):\n",
        "\n",
        "        # DEBUG: Store initial parameters if debug_mode is on\n",
        "        if self.debug_mode:\n",
        "            initial_params = {name: param.clone() for name, param in self.actor_critic_net.named_parameters()}\n",
        "            print(f\"all states: {all_states_batch}\")\n",
        "\n",
        "        # Update Popart layer.\n",
        "        old_mu, old_sigma = self.actor_critic_net.critic_popart_layer.update_statistics(gae_returns_unnormalized)\n",
        "\n",
        "        new_mu = self.actor_critic_net.critic_popart_layer.mu\n",
        "        new_sigma = self.actor_critic_net.critic_popart_layer.sigma\n",
        "\n",
        "        self.actor_critic_net.critic_popart_layer.weight.data = \\\n",
        "            self.actor_critic_net.critic_popart_layer.weight.data * (old_sigma / new_sigma)\n",
        "        self.actor_critic_net.critic_popart_layer.bias.data = \\\n",
        "            (self.actor_critic_net.critic_popart_layer.bias.data - old_mu) / new_sigma * old_sigma + new_mu\n",
        "\n",
        "\n",
        "        actor_logits, predicted_values_normalized, predicted_values_unnormalized = \\\n",
        "            self.actor_critic_net(all_states_batch)\n",
        "        predicted_values_normalized = predicted_values_normalized.squeeze(-1)\n",
        "        gae_returns_normalized = self.actor_critic_net.critic_popart_layer.normalize(gae_returns_unnormalized)\n",
        "\n",
        "        # Compute log_probs and entropies for the entire batch\n",
        "        dist = torch.distributions.Categorical(logits=actor_logits)\n",
        "\n",
        "\n",
        "        policy_loss = - (all_log_probs_batch * gae_advantages_unnormalized).mean()\n",
        "        value_loss = F.mse_loss(predicted_values_normalized, gae_returns_normalized)\n",
        "        entropy_loss_val = all_entropies_batch.mean() # Store the raw entropy mean for clear debugging\n",
        "        entropy_loss = - self.entropy_beta * entropy_loss_val\n",
        "\n",
        "        total_loss = policy_loss +  0.5 * value_loss + entropy_loss\n",
        "\n",
        "        # --- DEBUG Prints Added Here ---\n",
        "        if self.debug_mode:\n",
        "            print(f\"\\n--- Debug Update Networks ---\")\n",
        "            print(f\"Policy Loss: {policy_loss.item():.6f}\")\n",
        "            print(f\"Value Loss (Normalized): {value_loss.item():.6f}\") # Indicate it's on normalized values\n",
        "            print(f\"Entropy Beta: {self.entropy_beta}\")\n",
        "            print(f\"Raw Entropy Mean (all_entropies_batch.mean()): {entropy_loss_val.item():.6f}\")\n",
        "            print(f\"Entropy Loss (weighted): {entropy_loss.item():.6f}\")\n",
        "            print(f\"Total Loss: {total_loss.item():.6f}\")\n",
        "\n",
        "            print(f\"\\n--- PopArt Statistics ---\")\n",
        "            print(f\"  Old Mu: {old_mu.item():.4f}, Old Sigma: {old_sigma.item():.4f}\")\n",
        "            print(f\"  New Mu: {self.actor_critic_net.critic_popart_layer.mu.item():.4f}, New Sigma: {self.actor_critic_net.critic_popart_layer.sigma.item():.4f}\")\n",
        "\n",
        "            print(f\"\\n--- Value Comparisons ---\")\n",
        "            print(f\"Predicted Values (Normalized): {predicted_values_normalized.min().item():.4f} to {predicted_values_normalized.max().item():.4f}, Mean: {predicted_values_normalized.mean().item():.4f}, Std: {predicted_values_normalized.std().item():.4f}\")\n",
        "            print(f\"Target GAE Returns (Normalized): {gae_returns_normalized.min().item():.4f} to {gae_returns_normalized.max().item():.4f}, Mean: {gae_returns_normalized.mean().item():.4f}, Std: {gae_returns_normalized.std().item():.4f}\")\n",
        "            print(f\"Predicted Values (UNnormalized): {predicted_values_unnormalized.min().item():.4f} to {predicted_values_unnormalized.max().item():.4f}, Mean: {predicted_values_unnormalized.mean().item():.4f}, Std: {predicted_values_unnormalized.std().item():.4f}\")\n",
        "            print(f\"Target GAE Returns (UNnormalized): {gae_returns_unnormalized.min().item():.4f} to {gae_returns_unnormalized.max().item():.4f}, Mean: {gae_returns_unnormalized.mean().item():.4f}, Std: {gae_returns_unnormalized.std().item():.4f}\")\n",
        "\n",
        "            print(f\"\\n--- GAE Stats (Unnormalized) ---\")\n",
        "            print(f\"GAE Advantages - Min: {gae_advantages_unnormalized.min().item():.6f}, Max: {gae_advantages_unnormalized.max().item():.6f}, Mean: {gae_advantages_unnormalized.mean().item():.6f}, Std: {gae_advantages_unnormalized.std().item():.6f}\")\n",
        "            print(f\"GAE Returns - Min: {gae_returns_unnormalized.min().item():.6f}, Max: {gae_returns_unnormalized.max().item():.6f}, Mean: {gae_returns_unnormalized.mean().item():.6f}, Std: {gae_returns_unnormalized.std().item():.6f}\")\n",
        "\n",
        "            sample_size = actor_logits.shape[0]\n",
        "            print(f\"\\nSampled Actor Logits (first {min(5, sample_size)}):\")\n",
        "            print(actor_logits[:min(5, sample_size)].detach().cpu().numpy())\n",
        "            print(f\"Sampled Policy Probs (first {min(5, sample_size)}):\")\n",
        "            print(dist.probs[:min(5, sample_size)].detach().cpu().numpy())\n",
        "            print(f\"--- End Debug Update Networks ---\\n\")\n",
        "\n",
        "\n",
        "        # --- Zero gradients, compute, clip, and step for the combined network ---\n",
        "        self.optimizer.zero_grad()\n",
        "        total_loss.backward()\n",
        "\n",
        "        # DEBUG: Check gradients before optimization step\n",
        "        if self.debug_mode:\n",
        "            non_zero_grad_count = 0\n",
        "            total_params = 0\n",
        "            for name, param in self.actor_critic_net.named_parameters():\n",
        "                if param.grad is not None:\n",
        "                    total_params += 1\n",
        "                    if param.grad.norm().item() > 1e-6: # Check if gradient norm is significantly non-zero\n",
        "                        non_zero_grad_count += 1\n",
        "                        print(f\"DEBUG: grad norm: {param.grad.norm()}\")\n",
        "                else:\n",
        "                    print(f\"DEBUG: Parameter {name} has no gradient.\")\n",
        "            if total_params > 0:\n",
        "                print(f\"DEBUG: {non_zero_grad_count}/{total_params} parameters have non-zero gradients before step.\")\n",
        "            else:\n",
        "                print(\"DEBUG: No parameters found with gradients.\")\n",
        "\n",
        "        torch.nn.utils.clip_grad_norm_(self.actor_critic_net.parameters(), self.max_grad_norm)\n",
        "        self.optimizer.step()\n",
        "\n",
        "        # DEBUG: Compare parameters after optimization step\n",
        "        if self.debug_mode:\n",
        "            params_updated_count = 0\n",
        "            for name, param in self.actor_critic_net.named_parameters():\n",
        "                if name in initial_params:\n",
        "                    if not torch.equal(initial_params[name], param):\n",
        "                        params_updated_count += 1\n",
        "                        # Optional: Print detailed diff for a few parameters\n",
        "                        # if params_updated_count < 5: # Limit output to avoid spam\n",
        "                        #     print(f\"  Parameter '{name}' updated. Norm diff: {(initial_params[name] - param).norm().item()}\")\n",
        "            print(f\"DEBUG: {params_updated_count}/{len(initial_params)} parameters updated after optimizer step.\")\n",
        "            if params_updated_count == 0 and len(initial_params) > 0:\n",
        "                print(\"WARNING: No network parameters were updated. This might indicate an issue with gradients or learning rate.\")\n",
        "\n",
        "\n",
        "        # Clear segment buffers for the next collection phase\n",
        "        self.segment_states.clear()\n",
        "        self.segment_actions.clear()\n",
        "        self.segment_rewards.clear()\n",
        "        self.segment_log_probs.clear()\n",
        "        self.segment_values.clear()\n",
        "        self.segment_entropies.clear()\n",
        "\n",
        "        return policy_loss.item(), value_loss.item(), entropy_loss.item()\n"
      ],
      "metadata": {
        "id": "Kk13vPoSvKsj"
      },
      "execution_count": null,
      "outputs": []
    },
    {
      "cell_type": "code",
      "source": [
        "# Hyperparameters\n",
        "ENV_NAME = 'CartPole-v1'\n",
        "GAMMA = 0.99\n",
        "GAE_LAMBDA = 0.95\n",
        "ENTROPY_BETA = 0.001\n",
        "N_STEPS = 10\n",
        "MAX_GRAD_NORM = 1.0 # Single grad norm for the combined network\n",
        "NUM_EPISODES = 1000000\n",
        "PRINT_INTERVAL = 500\n",
        "DEBUG_MODE = True\n",
        "LR = 1e-4 # Single learning rate for the combined optimizer\n",
        "\n",
        "# Network architecture for the shared base and heads\n",
        "SHARED_HIDDEN_DIMS = (256, 128)\n",
        "ACTOR_HEAD_DIMS = () # No additional layers after shared for actor\n",
        "CRITIC_HEAD_DIMS = () # No additional layers after shared for critic\n",
        "POLICY_INIT_STD = 1.0"
      ],
      "metadata": {
        "id": "-EsSAHU9BZIF"
      },
      "execution_count": null,
      "outputs": []
    },
    {
      "cell_type": "code",
      "source": [
        "env = SyncVectorEnv(\n",
        "            [ENV_MAKE_FN for _ in range(3)]\n",
        "        )\n",
        "obs, _ = env.reset()\n",
        "obs_tensor = torch.as_tensor(obs, dtype=torch.float32)\n",
        "\n",
        "actions_np, log_probs_tensor, entropies_tensor, values_tensor = actor_critic_test_net.full_pass(obs_tensor)\n",
        "# next_states_np, rewards_np, terminateds_np, truncateds_np, _ = self.env.step(actions_np)\n",
        "env.step(actions_np)"
      ],
      "metadata": {
        "colab": {
          "base_uri": "https://localhost:8080/",
          "height": 207
        },
        "id": "XGr0zcR1u9Eh",
        "outputId": "51005023-9c76-419b-dfa8-7ebb533a05f9"
      },
      "execution_count": null,
      "outputs": [
        {
          "output_type": "error",
          "ename": "NameError",
          "evalue": "name 'actor_critic_test_net' is not defined",
          "traceback": [
            "\u001b[0;31m---------------------------------------------------------------------------\u001b[0m",
            "\u001b[0;31mNameError\u001b[0m                                 Traceback (most recent call last)",
            "\u001b[0;32m/tmp/ipython-input-14-2247839591.py\u001b[0m in \u001b[0;36m<cell line: 0>\u001b[0;34m()\u001b[0m\n\u001b[1;32m      5\u001b[0m \u001b[0mobs_tensor\u001b[0m \u001b[0;34m=\u001b[0m \u001b[0mtorch\u001b[0m\u001b[0;34m.\u001b[0m\u001b[0mas_tensor\u001b[0m\u001b[0;34m(\u001b[0m\u001b[0mobs\u001b[0m\u001b[0;34m,\u001b[0m \u001b[0mdtype\u001b[0m\u001b[0;34m=\u001b[0m\u001b[0mtorch\u001b[0m\u001b[0;34m.\u001b[0m\u001b[0mfloat32\u001b[0m\u001b[0;34m)\u001b[0m\u001b[0;34m\u001b[0m\u001b[0;34m\u001b[0m\u001b[0m\n\u001b[1;32m      6\u001b[0m \u001b[0;34m\u001b[0m\u001b[0m\n\u001b[0;32m----> 7\u001b[0;31m \u001b[0mactions_np\u001b[0m\u001b[0;34m,\u001b[0m \u001b[0mlog_probs_tensor\u001b[0m\u001b[0;34m,\u001b[0m \u001b[0mentropies_tensor\u001b[0m\u001b[0;34m,\u001b[0m \u001b[0mvalues_tensor\u001b[0m \u001b[0;34m=\u001b[0m \u001b[0mactor_critic_test_net\u001b[0m\u001b[0;34m.\u001b[0m\u001b[0mfull_pass\u001b[0m\u001b[0;34m(\u001b[0m\u001b[0mobs_tensor\u001b[0m\u001b[0;34m)\u001b[0m\u001b[0;34m\u001b[0m\u001b[0;34m\u001b[0m\u001b[0m\n\u001b[0m\u001b[1;32m      8\u001b[0m \u001b[0;31m# next_states_np, rewards_np, terminateds_np, truncateds_np, _ = self.env.step(actions_np)\u001b[0m\u001b[0;34m\u001b[0m\u001b[0;34m\u001b[0m\u001b[0m\n\u001b[1;32m      9\u001b[0m \u001b[0menv\u001b[0m\u001b[0;34m.\u001b[0m\u001b[0mstep\u001b[0m\u001b[0;34m(\u001b[0m\u001b[0mactions_np\u001b[0m\u001b[0;34m)\u001b[0m\u001b[0;34m\u001b[0m\u001b[0;34m\u001b[0m\u001b[0m\n",
            "\u001b[0;31mNameError\u001b[0m: name 'actor_critic_test_net' is not defined"
          ]
        }
      ]
    },
    {
      "cell_type": "code",
      "source": [
        "# Create environment\n",
        "\n",
        "# Instantiate A2C Trainer with shared network\n",
        "trainer = A2CTrainer(\n",
        "    env_make_fn=ENV_MAKE_FN,\n",
        "    gamma=GAMMA,\n",
        "    num_envs=8,\n",
        "    entropy_beta=ENTROPY_BETA,\n",
        "    n_steps=N_STEPS,\n",
        "    max_grad_norm=MAX_GRAD_NORM,\n",
        "    num_episodes=NUM_EPISODES,\n",
        "    print_interval=PRINT_INTERVAL,\n",
        "    debug_mode=False,\n",
        "    gae_lambda=0.0,\n",
        "    lr=LR, # Pass single LR\n",
        "    shared_hidden_dims=SHARED_HIDDEN_DIMS,\n",
        "    actor_head_dims=ACTOR_HEAD_DIMS,\n",
        "    critic_head_dims=CRITIC_HEAD_DIMS,\n",
        "    policy_init_std=POLICY_INIT_STD\n",
        ")\n",
        "\n",
        "# Start training\n",
        "trainer.train()"
      ],
      "metadata": {
        "id": "iNgoDEMBBqK1",
        "colab": {
          "base_uri": "https://localhost:8080/",
          "height": 1000
        },
        "outputId": "ee7a7c6c-804a-42b1-c91b-71a95729bc47"
      },
      "execution_count": null,
      "outputs": [
        {
          "output_type": "stream",
          "name": "stdout",
          "text": [
            "\n",
            "--- ActorCriticShared Initialization ---\n",
            "  Input Dim (expected state features): 4\n",
            "  Action Dim: 2\n",
            "  Shared Hidden Dims: (256, 128)\n",
            "  Actor Head Dims: ()\n",
            "  Critic Head Dims: ()\n",
            "  Shared Layers Output Dim: 128\n",
            "TensorBoard logs being written to: /content/drive/My Drive/TensorBoard/20250624-2213_CartPole-v1\n",
            "Segment Update | Total Episodes: 1923/1000000 | P_Loss: 7.8937 | V_Loss: 1.5064 | E_Loss: -0.0006\n",
            "Total Train Step Finished: 500/1000000 | Avg Reward (last 100 episodes): 14.33\n",
            "Segment Update | Total Episodes: 5291/1000000 | P_Loss: 1.9493 | V_Loss: 0.4215 | E_Loss: -0.0001\n",
            "Total Train Step Finished: 1000/1000000 | Avg Reward (last 100 episodes): 9.29\n",
            "Segment Update | Total Episodes: 9160/1000000 | P_Loss: 0.0029 | V_Loss: 0.0664 | E_Loss: -0.0000\n",
            "Total Train Step Finished: 1500/1000000 | Avg Reward (last 100 episodes): 9.52\n",
            "Segment Update | Total Episodes: 13017/1000000 | P_Loss: 0.0009 | V_Loss: 3.3796 | E_Loss: -0.0000\n",
            "Total Train Step Finished: 2000/1000000 | Avg Reward (last 100 episodes): 9.36\n",
            "Segment Update | Total Episodes: 16865/1000000 | P_Loss: 0.0004 | V_Loss: 0.0105 | E_Loss: -0.0000\n",
            "Total Train Step Finished: 2500/1000000 | Avg Reward (last 100 episodes): 9.44\n",
            "Segment Update | Total Episodes: 20734/1000000 | P_Loss: 0.0003 | V_Loss: 0.0074 | E_Loss: -0.0000\n",
            "Total Train Step Finished: 3000/1000000 | Avg Reward (last 100 episodes): 9.31\n",
            "Segment Update | Total Episodes: 24597/1000000 | P_Loss: 0.0002 | V_Loss: 0.5220 | E_Loss: -0.0000\n",
            "Total Train Step Finished: 3500/1000000 | Avg Reward (last 100 episodes): 9.28\n",
            "Segment Update | Total Episodes: 28463/1000000 | P_Loss: 0.0001 | V_Loss: 0.4806 | E_Loss: -0.0000\n",
            "Total Train Step Finished: 4000/1000000 | Avg Reward (last 100 episodes): 9.42\n",
            "Segment Update | Total Episodes: 32326/1000000 | P_Loss: 0.0001 | V_Loss: 0.4963 | E_Loss: -0.0000\n",
            "Total Train Step Finished: 4500/1000000 | Avg Reward (last 100 episodes): 9.38\n",
            "Segment Update | Total Episodes: 36197/1000000 | P_Loss: 0.0001 | V_Loss: 0.3831 | E_Loss: -0.0000\n",
            "Total Train Step Finished: 5000/1000000 | Avg Reward (last 100 episodes): 9.21\n",
            "Segment Update | Total Episodes: 40064/1000000 | P_Loss: 0.0001 | V_Loss: 0.0027 | E_Loss: -0.0000\n",
            "Total Train Step Finished: 5500/1000000 | Avg Reward (last 100 episodes): 9.36\n",
            "Segment Update | Total Episodes: 43925/1000000 | P_Loss: 0.0001 | V_Loss: 0.0025 | E_Loss: -0.0000\n",
            "Total Train Step Finished: 6000/1000000 | Avg Reward (last 100 episodes): 9.53\n",
            "Segment Update | Total Episodes: 47790/1000000 | P_Loss: 0.0000 | V_Loss: 0.0016 | E_Loss: -0.0000\n",
            "Total Train Step Finished: 6500/1000000 | Avg Reward (last 100 episodes): 9.35\n",
            "Segment Update | Total Episodes: 51658/1000000 | P_Loss: 0.0000 | V_Loss: 0.8374 | E_Loss: -0.0000\n",
            "Total Train Step Finished: 7000/1000000 | Avg Reward (last 100 episodes): 9.41\n",
            "Segment Update | Total Episodes: 55525/1000000 | P_Loss: 0.0000 | V_Loss: 0.5875 | E_Loss: -0.0000\n",
            "Total Train Step Finished: 7500/1000000 | Avg Reward (last 100 episodes): 9.40\n",
            "Segment Update | Total Episodes: 59388/1000000 | P_Loss: 0.0000 | V_Loss: 0.1620 | E_Loss: -0.0000\n",
            "Total Train Step Finished: 8000/1000000 | Avg Reward (last 100 episodes): 9.38\n",
            "Segment Update | Total Episodes: 63254/1000000 | P_Loss: 0.0000 | V_Loss: 0.0019 | E_Loss: -0.0000\n",
            "Total Train Step Finished: 8500/1000000 | Avg Reward (last 100 episodes): 9.27\n"
          ]
        },
        {
          "output_type": "error",
          "ename": "KeyboardInterrupt",
          "evalue": "",
          "traceback": [
            "\u001b[0;31m---------------------------------------------------------------------------\u001b[0m",
            "\u001b[0;31mKeyboardInterrupt\u001b[0m                         Traceback (most recent call last)",
            "\u001b[0;32m/tmp/ipython-input-16-1760638887.py\u001b[0m in \u001b[0;36m<cell line: 0>\u001b[0;34m()\u001b[0m\n\u001b[1;32m     21\u001b[0m \u001b[0;34m\u001b[0m\u001b[0m\n\u001b[1;32m     22\u001b[0m \u001b[0;31m# Start training\u001b[0m\u001b[0;34m\u001b[0m\u001b[0;34m\u001b[0m\u001b[0m\n\u001b[0;32m---> 23\u001b[0;31m \u001b[0mtrainer\u001b[0m\u001b[0;34m.\u001b[0m\u001b[0mtrain\u001b[0m\u001b[0;34m(\u001b[0m\u001b[0;34m)\u001b[0m\u001b[0;34m\u001b[0m\u001b[0;34m\u001b[0m\u001b[0m\n\u001b[0m",
            "\u001b[0;32m/tmp/ipython-input-11-392755030.py\u001b[0m in \u001b[0;36mtrain\u001b[0;34m(self)\u001b[0m\n\u001b[1;32m    133\u001b[0m \u001b[0;34m\u001b[0m\u001b[0m\n\u001b[1;32m    134\u001b[0m                         \u001b[0;31m# Check for environment solved condition (e.g., for CartPole-v1)\u001b[0m\u001b[0;34m\u001b[0m\u001b[0;34m\u001b[0m\u001b[0m\n\u001b[0;32m--> 135\u001b[0;31m                         \u001b[0;32mif\u001b[0m \u001b[0mself\u001b[0m\u001b[0;34m.\u001b[0m\u001b[0menv_spec_id\u001b[0m \u001b[0;34m==\u001b[0m \u001b[0;34m'CartPole-v1'\u001b[0m \u001b[0;32mand\u001b[0m \u001b[0mnp\u001b[0m\u001b[0;34m.\u001b[0m\u001b[0mmean\u001b[0m\u001b[0;34m(\u001b[0m\u001b[0mlist\u001b[0m\u001b[0;34m(\u001b[0m\u001b[0mself\u001b[0m\u001b[0;34m.\u001b[0m\u001b[0mepisode_rewards_deque\u001b[0m\u001b[0;34m)\u001b[0m\u001b[0;34m)\u001b[0m \u001b[0;34m>=\u001b[0m \u001b[0;36m475\u001b[0m\u001b[0;34m:\u001b[0m\u001b[0;34m\u001b[0m\u001b[0;34m\u001b[0m\u001b[0m\n\u001b[0m\u001b[1;32m    136\u001b[0m                             \u001b[0mprint\u001b[0m\u001b[0;34m(\u001b[0m\u001b[0;34mf\"Environment {self.env_spec_id} solved at {self.total_episodes_finished} episodes!\"\u001b[0m\u001b[0;34m)\u001b[0m\u001b[0;34m\u001b[0m\u001b[0;34m\u001b[0m\u001b[0m\n\u001b[1;32m    137\u001b[0m                             \u001b[0mself\u001b[0m\u001b[0;34m.\u001b[0m\u001b[0mtraining_complete\u001b[0m \u001b[0;34m=\u001b[0m \u001b[0;32mTrue\u001b[0m\u001b[0;34m\u001b[0m\u001b[0;34m\u001b[0m\u001b[0m\n",
            "\u001b[0;32m/usr/local/lib/python3.11/dist-packages/numpy/_core/fromnumeric.py\u001b[0m in \u001b[0;36mmean\u001b[0;34m(a, axis, dtype, out, keepdims, where)\u001b[0m\n\u001b[1;32m   3594\u001b[0m             \u001b[0;32mreturn\u001b[0m \u001b[0mmean\u001b[0m\u001b[0;34m(\u001b[0m\u001b[0maxis\u001b[0m\u001b[0;34m=\u001b[0m\u001b[0maxis\u001b[0m\u001b[0;34m,\u001b[0m \u001b[0mdtype\u001b[0m\u001b[0;34m=\u001b[0m\u001b[0mdtype\u001b[0m\u001b[0;34m,\u001b[0m \u001b[0mout\u001b[0m\u001b[0;34m=\u001b[0m\u001b[0mout\u001b[0m\u001b[0;34m,\u001b[0m \u001b[0;34m**\u001b[0m\u001b[0mkwargs\u001b[0m\u001b[0;34m)\u001b[0m\u001b[0;34m\u001b[0m\u001b[0;34m\u001b[0m\u001b[0m\n\u001b[1;32m   3595\u001b[0m \u001b[0;34m\u001b[0m\u001b[0m\n\u001b[0;32m-> 3596\u001b[0;31m     return _methods._mean(a, axis=axis, dtype=dtype,\n\u001b[0m\u001b[1;32m   3597\u001b[0m                           out=out, **kwargs)\n\u001b[1;32m   3598\u001b[0m \u001b[0;34m\u001b[0m\u001b[0m\n",
            "\u001b[0;32m/usr/local/lib/python3.11/dist-packages/numpy/_core/_methods.py\u001b[0m in \u001b[0;36m_mean\u001b[0;34m(a, axis, dtype, out, keepdims, where)\u001b[0m\n\u001b[1;32m    132\u001b[0m         \u001b[0;32mif\u001b[0m \u001b[0mis_float16_result\u001b[0m \u001b[0;32mand\u001b[0m \u001b[0mout\u001b[0m \u001b[0;32mis\u001b[0m \u001b[0;32mNone\u001b[0m\u001b[0;34m:\u001b[0m\u001b[0;34m\u001b[0m\u001b[0;34m\u001b[0m\u001b[0m\n\u001b[1;32m    133\u001b[0m             \u001b[0mret\u001b[0m \u001b[0;34m=\u001b[0m \u001b[0marr\u001b[0m\u001b[0;34m.\u001b[0m\u001b[0mdtype\u001b[0m\u001b[0;34m.\u001b[0m\u001b[0mtype\u001b[0m\u001b[0;34m(\u001b[0m\u001b[0mret\u001b[0m\u001b[0;34m)\u001b[0m\u001b[0;34m\u001b[0m\u001b[0;34m\u001b[0m\u001b[0m\n\u001b[0;32m--> 134\u001b[0;31m     \u001b[0;32melif\u001b[0m \u001b[0mhasattr\u001b[0m\u001b[0;34m(\u001b[0m\u001b[0mret\u001b[0m\u001b[0;34m,\u001b[0m \u001b[0;34m'dtype'\u001b[0m\u001b[0;34m)\u001b[0m\u001b[0;34m:\u001b[0m\u001b[0;34m\u001b[0m\u001b[0;34m\u001b[0m\u001b[0m\n\u001b[0m\u001b[1;32m    135\u001b[0m         \u001b[0;32mif\u001b[0m \u001b[0mis_float16_result\u001b[0m\u001b[0;34m:\u001b[0m\u001b[0;34m\u001b[0m\u001b[0;34m\u001b[0m\u001b[0m\n\u001b[1;32m    136\u001b[0m             \u001b[0mret\u001b[0m \u001b[0;34m=\u001b[0m \u001b[0marr\u001b[0m\u001b[0;34m.\u001b[0m\u001b[0mdtype\u001b[0m\u001b[0;34m.\u001b[0m\u001b[0mtype\u001b[0m\u001b[0;34m(\u001b[0m\u001b[0mret\u001b[0m \u001b[0;34m/\u001b[0m \u001b[0mrcount\u001b[0m\u001b[0;34m)\u001b[0m\u001b[0;34m\u001b[0m\u001b[0;34m\u001b[0m\u001b[0m\n",
            "\u001b[0;31mKeyboardInterrupt\u001b[0m: "
          ]
        }
      ]
    },
    {
      "cell_type": "code",
      "source": [],
      "metadata": {
        "id": "KcfvS8kqhM2F"
      },
      "execution_count": null,
      "outputs": []
    },
    {
      "cell_type": "code",
      "source": [
        "plt.figure(figsize=(10, 6))\n",
        "\n",
        "plt.plot(np.arange(len(trainer.episode_rewards_deque)), list(trainer.episode_rewards_deque), linestyle='-')\n",
        "plt.xlabel(\"Global Episode\")\n",
        "plt.ylabel(f\"Average Reward (last 100 episodes)\")\n",
        "plt.title(f\"A2C + GAE Training Progress on {ENV_NAME}\")\n",
        "plt.grid(True)\n",
        "plt.tight_layout()\n",
        "plt.show()"
      ],
      "metadata": {
        "colab": {
          "base_uri": "https://localhost:8080/",
          "height": 607
        },
        "id": "YB5V9f5PCODG",
        "outputId": "043694ca-ed6e-44d8-d94b-c88837c131af"
      },
      "execution_count": null,
      "outputs": [
        {
          "output_type": "display_data",
          "data": {
            "text/plain": [
              "<Figure size 1000x600 with 1 Axes>"
            ],
            "image/png": "[encoded data removed]"
          },
          "metadata": {}
        }
      ]
    },
    {
      "cell_type": "code",
      "source": [],
      "metadata": {
        "id": "2YY13IxUqpqj"
      },
      "execution_count": null,
      "outputs": []
    },
    {
      "cell_type": "code",
      "source": [
        "eval_env = gym.make(ENV_NAME, render_mode=\"rgb_array\")\n",
        "eval_env.reset()\n",
        "eval_env.render()"
      ],
      "metadata": {
        "colab": {
          "base_uri": "https://localhost:8080/",
          "height": 438
        },
        "id": "QE7_qwdJf_Nm",
        "outputId": "9271c205-6c5b-4ef3-990d-d39a501bd6bc"
      },
      "execution_count": null,
      "outputs": [
        {
          "output_type": "execute_result",
          "data": {
            "text/plain": [
              "array([[[255, 255, 255],\n",
              "        [255, 255, 255],\n",
              "        [255, 255, 255],\n",
              "        ...,\n",
              "        [255, 255, 255],\n",
              "        [255, 255, 255],\n",
              "        [255, 255, 255]],\n",
              "\n",
              "       [[255, 255, 255],\n",
              "        [255, 255, 255],\n",
              "        [255, 255, 255],\n",
              "        ...,\n",
              "        [255, 255, 255],\n",
              "        [255, 255, 255],\n",
              "        [255, 255, 255]],\n",
              "\n",
              "       [[255, 255, 255],\n",
              "        [255, 255, 255],\n",
              "        [255, 255, 255],\n",
              "        ...,\n",
              "        [255, 255, 255],\n",
              "        [255, 255, 255],\n",
              "        [255, 255, 255]],\n",
              "\n",
              "       ...,\n",
              "\n",
              "       [[255, 255, 255],\n",
              "        [255, 255, 255],\n",
              "        [255, 255, 255],\n",
              "        ...,\n",
              "        [255, 255, 255],\n",
              "        [255, 255, 255],\n",
              "        [255, 255, 255]],\n",
              "\n",
              "       [[255, 255, 255],\n",
              "        [255, 255, 255],\n",
              "        [255, 255, 255],\n",
              "        ...,\n",
              "        [255, 255, 255],\n",
              "        [255, 255, 255],\n",
              "        [255, 255, 255]],\n",
              "\n",
              "       [[255, 255, 255],\n",
              "        [255, 255, 255],\n",
              "        [255, 255, 255],\n",
              "        ...,\n",
              "        [255, 255, 255],\n",
              "        [255, 255, 255],\n",
              "        [255, 255, 255]]], dtype=uint8)"
            ],
            "text/html": [
              "<style>\n",
              "      .ndarray_repr .ndarray_raw_data {\n",
              "        display: none;\n",
              "      }\n",
              "      .ndarray_repr.show_array .ndarray_raw_data {\n",
              "        display: block;\n",
              "      }\n",
              "      .ndarray_repr.show_array .ndarray_image_preview {\n",
              "        display: none;\n",
              "      }\n",
              "      </style>\n",
              "      <div id=\"id-9f586229-7117-4438-a923-998450be9bd7\" class=\"ndarray_repr\"><pre>ndarray (400, 600, 3) <button style=\"padding: 0 2px;\">show data</button></pre><img src=\"data:image/png;base64,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\" class=\"ndarray_image_preview\" /><pre class=\"ndarray_raw_data\">array([[[255, 255, 255],\n",
              "        [255, 255, 255],\n",
              "        [255, 255, 255],\n",
              "        ...,\n",
              "        [255, 255, 255],\n",
              "        [255, 255, 255],\n",
              "        [255, 255, 255]],\n",
              "\n",
              "       [[255, 255, 255],\n",
              "        [255, 255, 255],\n",
              "        [255, 255, 255],\n",
              "        ...,\n",
              "        [255, 255, 255],\n",
              "        [255, 255, 255],\n",
              "        [255, 255, 255]],\n",
              "\n",
              "       [[255, 255, 255],\n",
              "        [255, 255, 255],\n",
              "        [255, 255, 255],\n",
              "        ...,\n",
              "        [255, 255, 255],\n",
              "        [255, 255, 255],\n",
              "        [255, 255, 255]],\n",
              "\n",
              "       ...,\n",
              "\n",
              "       [[255, 255, 255],\n",
              "        [255, 255, 255],\n",
              "        [255, 255, 255],\n",
              "        ...,\n",
              "        [255, 255, 255],\n",
              "        [255, 255, 255],\n",
              "        [255, 255, 255]],\n",
              "\n",
              "       [[255, 255, 255],\n",
              "        [255, 255, 255],\n",
              "        [255, 255, 255],\n",
              "        ...,\n",
              "        [255, 255, 255],\n",
              "        [255, 255, 255],\n",
              "        [255, 255, 255]],\n",
              "\n",
              "       [[255, 255, 255],\n",
              "        [255, 255, 255],\n",
              "        [255, 255, 255],\n",
              "        ...,\n",
              "        [255, 255, 255],\n",
              "        [255, 255, 255],\n",
              "        [255, 255, 255]]], dtype=uint8)</pre></div><script>\n",
              "      (() => {\n",
              "      const titles = ['show data', 'hide data'];\n",
              "      let index = 0\n",
              "      document.querySelector('#id-9f586229-7117-4438-a923-998450be9bd7 button').onclick = (e) => {\n",
              "        document.querySelector('#id-9f586229-7117-4438-a923-998450be9bd7').classList.toggle('show_array');\n",
              "        index = (++index) % 2;\n",
              "        document.querySelector('#id-9f586229-7117-4438-a923-998450be9bd7 button').textContent = titles[index];\n",
              "        e.preventDefault();\n",
              "        e.stopPropagation();\n",
              "      }\n",
              "      })();\n",
              "    </script>"
            ]
          },
          "metadata": {},
          "execution_count": 66
        }
      ]
    },
    {
      "cell_type": "code",
      "source": [
        "# @title\n",
        "eval_rewards = []\n",
        "EVAL_EPISODES = 100\n",
        "trainer.actor_critic_net.eval()\n",
        "\n",
        "# Disable gradient calculations for efficiency during evaluation\n",
        "with torch.no_grad():\n",
        "    for episode in range(EVAL_EPISODES):\n",
        "        state, _ = eval_env.reset()\n",
        "        episode_reward = 0\n",
        "        done = False\n",
        "        truncated = False\n",
        "\n",
        "        while not done and not truncated:\n",
        "            # Get the greedy action from the global policy network\n",
        "            # Move state to device if necessary (though full_pass handles it)\n",
        "            state_tensor = torch.as_tensor(state, dtype=torch.float32, device=device).unsqueeze(0)\n",
        "            actor_logits, _ = trainer.actor_critic_net(state_tensor)\n",
        "            action = torch.argmax(actor_logits, dim=-1).item()  # Select the greedy action\n",
        "\n",
        "            next_state, reward, done, truncated, _ = eval_env.step(action)\n",
        "            episode_reward += reward\n",
        "            state = next_state\n",
        "\n",
        "        eval_rewards.append(episode_reward)\n",
        "\n",
        "        if episode % 10 == 0:\n",
        "            print(f\"Evaluation Episode {episode+1}/{EVAL_EPISODES}: Reward = {episode_reward}\")\n",
        "\n",
        "# Close the evaluation environment\n",
        "eval_env.close()"
      ],
      "metadata": {
        "colab": {
          "base_uri": "https://localhost:8080/"
        },
        "id": "mmtlOyR-Gu10",
        "outputId": "5b9a5ad0-478e-410f-9295-cc7ad619c43c",
        "collapsed": true
      },
      "execution_count": null,
      "outputs": [
        {
          "output_type": "stream",
          "name": "stdout",
          "text": [
            "Evaluation Episode 1/100: Reward = 500.0\n",
            "Evaluation Episode 11/100: Reward = 500.0\n",
            "Evaluation Episode 21/100: Reward = 500.0\n",
            "Evaluation Episode 31/100: Reward = 500.0\n",
            "Evaluation Episode 41/100: Reward = 500.0\n",
            "Evaluation Episode 51/100: Reward = 500.0\n",
            "Evaluation Episode 61/100: Reward = 500.0\n",
            "Evaluation Episode 71/100: Reward = 500.0\n",
            "Evaluation Episode 81/100: Reward = 500.0\n",
            "Evaluation Episode 91/100: Reward = 500.0\n"
          ]
        }
      ]
    },
    {
      "cell_type": "code",
      "source": [
        "avg_eval_reward = np.mean(eval_rewards)\n",
        "std_eval_reward = np.std(eval_rewards)\n",
        "\n",
        "print(f\"\\n--- Evaluation Complete ---\")\n",
        "print(f\"Average Reward over {EVAL_EPISODES} episodes: {avg_eval_reward:.2f}\")\n",
        "print(f\"Standard Deviation of Reward: {std_eval_reward:.2f}\")\n",
        "# Check if the environment is \"solved\" based on its criteria (CartPole-v1: 475)\n",
        "if ENV_NAME == 'CartPole-v1':\n",
        "    if avg_eval_reward >= 475:\n",
        "        print(f\"Congratulations! {ENV_NAME} is considered SOLVED (Avg Reward >= 475)!\")\n",
        "    else:\n",
        "        print(f\"{ENV_NAME} is not yet solved (Avg Reward < 475). Keep training!\")\n",
        "\n",
        "# Optional: Plot the distribution of evaluation rewards\n",
        "plt.figure(figsize=(8, 5))\n",
        "plt.hist(eval_rewards, bins=20, edgecolor='black')\n",
        "plt.title('Distribution of Evaluation Rewards')\n",
        "plt.xlabel('Total Episode Reward')\n",
        "plt.ylabel('Frequency')\n",
        "plt.grid(axis='y', alpha=0.75)\n",
        "plt.show()"
      ],
      "metadata": {
        "colab": {
          "base_uri": "https://localhost:8080/",
          "height": 572
        },
        "id": "K3fTQFUFHoBd",
        "outputId": "07dd8c9f-3e00-43c5-99ba-703729173e8e"
      },
      "execution_count": null,
      "outputs": [
        {
          "output_type": "stream",
          "name": "stdout",
          "text": [
            "\n",
            "--- Evaluation Complete ---\n",
            "Average Reward over 100 episodes: 13.51\n",
            "Standard Deviation of Reward: 1.55\n",
            "CartPole-v1 is not yet solved (Avg Reward < 475). Keep training!\n"
          ]
        },
        {
          "output_type": "display_data",
          "data": {
            "text/plain": [
              "<Figure size 800x500 with 1 Axes>"
            ],
            "image/png": "[encoded data removed]"
          },
          "metadata": {}
        }
      ]
    },
    {
      "cell_type": "code",
      "source": [
        "%load_ext tensorboard\n",
        "%tensorboard --logdir /content/drive/My Drive/TensorBoard"
      ],
      "metadata": {
        "id": "J25SdNIhjJ1v",
        "colab": {
          "base_uri": "https://localhost:8080/",
          "height": 493
        },
        "outputId": "be3e26bc-94ae-4a1a-c1d2-cf602a890c90"
      },
      "execution_count": null,
      "outputs": [
        {
          "output_type": "stream",
          "name": "stdout",
          "text": [
            "The tensorboard extension is already loaded. To reload it, use:\n",
            "  %reload_ext tensorboard\n"
          ]
        },
        {
          "output_type": "display_data",
          "data": {
            "text/plain": [
              "ERROR: Failed to launch TensorBoard (exited with 2).\n",
              "Contents of stderr:\n",
              "2025-06-24 00:26:44.791353: E external/local_xla/xla/stream_executor/cuda/cuda_fft.cc:477] Unable to register cuFFT factory: Attempting to register factory for plugin cuFFT when one has already been registered\n",
              "WARNING: All log messages before absl::InitializeLog() is called are written to STDERR\n",
              "E0000 00:00:1750724804.919093    4052 cuda_dnn.cc:8310] Unable to register cuDNN factory: Attempting to register factory for plugin cuDNN when one has already been registered\n",
              "E0000 00:00:1750724804.950966    4052 cuda_blas.cc:1418] Unable to register cuBLAS factory: Attempting to register factory for plugin cuBLAS when one has already been registered\n",
              "usage: tensorboard [-h] [--helpfull] [--logdir PATH] [--logdir_spec PATH_SPEC]\n",
              "                   [--host ADDR] [--bind_all] [--port PORT]\n",
              "                   [--reuse_port BOOL] [--load_fast {false,auto,true}]\n",
              "                   [--extra_data_server_flags EXTRA_DATA_SERVER_FLAGS]\n",
              "                   [--grpc_creds_type {local,ssl,ssl_dev}]\n",
              "                   [--grpc_data_provider PORT] [--purge_orphaned_data BOOL]\n",
              "                   [--db URI] [--db_import] [--inspect] [--version_tb]\n",
              "                   [--tag TAG] [--event_file PATH] [--path_prefix PATH]\n",
              "                   [--window_title TEXT] [--max_reload_threads COUNT]\n",
              "                   [--reload_interval SECONDS] [--reload_task TYPE]\n",
              "                   [--reload_multifile BOOL]\n",
              "                   [--reload_multifile_inactive_secs SECONDS]\n",
              "                   [--generic_data TYPE]\n",
              "                   [--samples_per_plugin SAMPLES_PER_PLUGIN]\n",
              "                   [--detect_file_replacement BOOL]\n",
              "                   {serve} ...\n",
              "tensorboard: error: argument {serve}: invalid choice: 'Drive/TensorBoard' (choose from 'serve')"
            ]
          },
          "metadata": {}
        }
      ]
    },
    {
      "cell_type": "code",
      "source": [],
      "metadata": {
        "id": "Klj23MRiUf0F"
      },
      "execution_count": null,
      "outputs": []
    }
  ]
}